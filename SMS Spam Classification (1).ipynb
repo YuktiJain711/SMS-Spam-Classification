{
 "cells": [
  {
   "cell_type": "code",
   "execution_count": 6,
   "id": "4dd623a2",
   "metadata": {},
   "outputs": [],
   "source": [
    "import numpy as np\n",
    "import pandas as pd\n",
    "import matplotlib.pyplot as plt\n",
    "import seaborn as sns\n",
    "import scipy as sp\n",
    "from sklearn import feature_extraction, model_selection, naive_bayes, metrics, svm\n",
    "from sklearn.ensemble import RandomForestClassifier\n",
    "from sklearn.model_selection import train_test_split\n",
    "from sklearn.metrics import precision_recall_fscore_support as score\n",
    "%matplotlib inline\n"
   ]
  },
  {
   "cell_type": "code",
   "execution_count": 20,
   "id": "99bc47b2",
   "metadata": {},
   "outputs": [],
   "source": [
    "\n",
    "dataset = pd.read_csv(\"C:/Users/Dell/PycharmProjects/spam detection/spam.csv\", encoding='latin-1')\n"
   ]
  },
  {
   "cell_type": "code",
   "execution_count": 21,
   "id": "0b71f007",
   "metadata": {},
   "outputs": [
    {
     "data": {
      "text/html": [
       "<div>\n",
       "<style scoped>\n",
       "    .dataframe tbody tr th:only-of-type {\n",
       "        vertical-align: middle;\n",
       "    }\n",
       "\n",
       "    .dataframe tbody tr th {\n",
       "        vertical-align: top;\n",
       "    }\n",
       "\n",
       "    .dataframe thead th {\n",
       "        text-align: right;\n",
       "    }\n",
       "</style>\n",
       "<table border=\"1\" class=\"dataframe\">\n",
       "  <thead>\n",
       "    <tr style=\"text-align: right;\">\n",
       "      <th></th>\n",
       "      <th>v1</th>\n",
       "      <th>v2</th>\n",
       "      <th>Unnamed: 2</th>\n",
       "      <th>Unnamed: 3</th>\n",
       "      <th>Unnamed: 4</th>\n",
       "    </tr>\n",
       "  </thead>\n",
       "  <tbody>\n",
       "    <tr>\n",
       "      <th>0</th>\n",
       "      <td>ham</td>\n",
       "      <td>Go until jurong point, crazy.. Available only ...</td>\n",
       "      <td>NaN</td>\n",
       "      <td>NaN</td>\n",
       "      <td>NaN</td>\n",
       "    </tr>\n",
       "    <tr>\n",
       "      <th>1</th>\n",
       "      <td>ham</td>\n",
       "      <td>Ok lar... Joking wif u oni...</td>\n",
       "      <td>NaN</td>\n",
       "      <td>NaN</td>\n",
       "      <td>NaN</td>\n",
       "    </tr>\n",
       "    <tr>\n",
       "      <th>2</th>\n",
       "      <td>spam</td>\n",
       "      <td>Free entry in 2 a wkly comp to win FA Cup fina...</td>\n",
       "      <td>NaN</td>\n",
       "      <td>NaN</td>\n",
       "      <td>NaN</td>\n",
       "    </tr>\n",
       "    <tr>\n",
       "      <th>3</th>\n",
       "      <td>ham</td>\n",
       "      <td>U dun say so early hor... U c already then say...</td>\n",
       "      <td>NaN</td>\n",
       "      <td>NaN</td>\n",
       "      <td>NaN</td>\n",
       "    </tr>\n",
       "    <tr>\n",
       "      <th>4</th>\n",
       "      <td>ham</td>\n",
       "      <td>Nah I don't think he goes to usf, he lives aro...</td>\n",
       "      <td>NaN</td>\n",
       "      <td>NaN</td>\n",
       "      <td>NaN</td>\n",
       "    </tr>\n",
       "  </tbody>\n",
       "</table>\n",
       "</div>"
      ],
      "text/plain": [
       "     v1                                                 v2 Unnamed: 2  \\\n",
       "0   ham  Go until jurong point, crazy.. Available only ...        NaN   \n",
       "1   ham                      Ok lar... Joking wif u oni...        NaN   \n",
       "2  spam  Free entry in 2 a wkly comp to win FA Cup fina...        NaN   \n",
       "3   ham  U dun say so early hor... U c already then say...        NaN   \n",
       "4   ham  Nah I don't think he goes to usf, he lives aro...        NaN   \n",
       "\n",
       "  Unnamed: 3 Unnamed: 4  \n",
       "0        NaN        NaN  \n",
       "1        NaN        NaN  \n",
       "2        NaN        NaN  \n",
       "3        NaN        NaN  \n",
       "4        NaN        NaN  "
      ]
     },
     "execution_count": 21,
     "metadata": {},
     "output_type": "execute_result"
    }
   ],
   "source": [
    "dataset.head()"
   ]
  },
  {
   "cell_type": "code",
   "execution_count": 23,
   "id": "2488c472",
   "metadata": {},
   "outputs": [
    {
     "name": "stderr",
     "output_type": "stream",
     "text": [
      "C:\\Users\\Dell\\AppData\\Local\\Temp\\ipykernel_15700\\1279663868.py:2: FutureWarning: In a future version of pandas all arguments of DataFrame.drop except for the argument 'labels' will be keyword-only.\n",
      "  dataset = dataset.drop('Unnamed: 2', 1)\n"
     ]
    },
    {
     "ename": "KeyError",
     "evalue": "\"['Unnamed: 2'] not found in axis\"",
     "output_type": "error",
     "traceback": [
      "\u001b[1;31m---------------------------------------------------------------------------\u001b[0m",
      "\u001b[1;31mKeyError\u001b[0m                                  Traceback (most recent call last)",
      "\u001b[1;32m~\\AppData\\Local\\Temp\\ipykernel_15700\\1279663868.py\u001b[0m in \u001b[0;36m<module>\u001b[1;34m\u001b[0m\n\u001b[0;32m      1\u001b[0m \u001b[1;31m#removing unnamed columns\u001b[0m\u001b[1;33m\u001b[0m\u001b[1;33m\u001b[0m\u001b[0m\n\u001b[1;32m----> 2\u001b[1;33m \u001b[0mdataset\u001b[0m \u001b[1;33m=\u001b[0m \u001b[0mdataset\u001b[0m\u001b[1;33m.\u001b[0m\u001b[0mdrop\u001b[0m\u001b[1;33m(\u001b[0m\u001b[1;34m'Unnamed: 2'\u001b[0m\u001b[1;33m,\u001b[0m \u001b[1;36m1\u001b[0m\u001b[1;33m)\u001b[0m\u001b[1;33m\u001b[0m\u001b[1;33m\u001b[0m\u001b[0m\n\u001b[0m\u001b[0;32m      3\u001b[0m \u001b[0mdataset\u001b[0m \u001b[1;33m=\u001b[0m \u001b[0mdataset\u001b[0m\u001b[1;33m.\u001b[0m\u001b[0mdrop\u001b[0m\u001b[1;33m(\u001b[0m\u001b[1;34m'Unnamed: 3'\u001b[0m\u001b[1;33m,\u001b[0m \u001b[1;36m1\u001b[0m\u001b[1;33m)\u001b[0m\u001b[1;33m\u001b[0m\u001b[1;33m\u001b[0m\u001b[0m\n\u001b[0;32m      4\u001b[0m \u001b[0mdataset\u001b[0m \u001b[1;33m=\u001b[0m \u001b[0mdataset\u001b[0m\u001b[1;33m.\u001b[0m\u001b[0mdrop\u001b[0m\u001b[1;33m(\u001b[0m\u001b[1;34m'Unnamed: 4'\u001b[0m\u001b[1;33m,\u001b[0m \u001b[1;36m1\u001b[0m\u001b[1;33m)\u001b[0m\u001b[1;33m\u001b[0m\u001b[1;33m\u001b[0m\u001b[0m\n",
      "\u001b[1;32m~\\anaconda3\\lib\\site-packages\\pandas\\util\\_decorators.py\u001b[0m in \u001b[0;36mwrapper\u001b[1;34m(*args, **kwargs)\u001b[0m\n\u001b[0;32m    309\u001b[0m                     \u001b[0mstacklevel\u001b[0m\u001b[1;33m=\u001b[0m\u001b[0mstacklevel\u001b[0m\u001b[1;33m,\u001b[0m\u001b[1;33m\u001b[0m\u001b[1;33m\u001b[0m\u001b[0m\n\u001b[0;32m    310\u001b[0m                 )\n\u001b[1;32m--> 311\u001b[1;33m             \u001b[1;32mreturn\u001b[0m \u001b[0mfunc\u001b[0m\u001b[1;33m(\u001b[0m\u001b[1;33m*\u001b[0m\u001b[0margs\u001b[0m\u001b[1;33m,\u001b[0m \u001b[1;33m**\u001b[0m\u001b[0mkwargs\u001b[0m\u001b[1;33m)\u001b[0m\u001b[1;33m\u001b[0m\u001b[1;33m\u001b[0m\u001b[0m\n\u001b[0m\u001b[0;32m    312\u001b[0m \u001b[1;33m\u001b[0m\u001b[0m\n\u001b[0;32m    313\u001b[0m         \u001b[1;32mreturn\u001b[0m \u001b[0mwrapper\u001b[0m\u001b[1;33m\u001b[0m\u001b[1;33m\u001b[0m\u001b[0m\n",
      "\u001b[1;32m~\\anaconda3\\lib\\site-packages\\pandas\\core\\frame.py\u001b[0m in \u001b[0;36mdrop\u001b[1;34m(self, labels, axis, index, columns, level, inplace, errors)\u001b[0m\n\u001b[0;32m   4955\u001b[0m                 \u001b[0mweight\u001b[0m  \u001b[1;36m1.0\u001b[0m     \u001b[1;36m0.8\u001b[0m\u001b[1;33m\u001b[0m\u001b[1;33m\u001b[0m\u001b[0m\n\u001b[0;32m   4956\u001b[0m         \"\"\"\n\u001b[1;32m-> 4957\u001b[1;33m         return super().drop(\n\u001b[0m\u001b[0;32m   4958\u001b[0m             \u001b[0mlabels\u001b[0m\u001b[1;33m=\u001b[0m\u001b[0mlabels\u001b[0m\u001b[1;33m,\u001b[0m\u001b[1;33m\u001b[0m\u001b[1;33m\u001b[0m\u001b[0m\n\u001b[0;32m   4959\u001b[0m             \u001b[0maxis\u001b[0m\u001b[1;33m=\u001b[0m\u001b[0maxis\u001b[0m\u001b[1;33m,\u001b[0m\u001b[1;33m\u001b[0m\u001b[1;33m\u001b[0m\u001b[0m\n",
      "\u001b[1;32m~\\anaconda3\\lib\\site-packages\\pandas\\core\\generic.py\u001b[0m in \u001b[0;36mdrop\u001b[1;34m(self, labels, axis, index, columns, level, inplace, errors)\u001b[0m\n\u001b[0;32m   4265\u001b[0m         \u001b[1;32mfor\u001b[0m \u001b[0maxis\u001b[0m\u001b[1;33m,\u001b[0m \u001b[0mlabels\u001b[0m \u001b[1;32min\u001b[0m \u001b[0maxes\u001b[0m\u001b[1;33m.\u001b[0m\u001b[0mitems\u001b[0m\u001b[1;33m(\u001b[0m\u001b[1;33m)\u001b[0m\u001b[1;33m:\u001b[0m\u001b[1;33m\u001b[0m\u001b[1;33m\u001b[0m\u001b[0m\n\u001b[0;32m   4266\u001b[0m             \u001b[1;32mif\u001b[0m \u001b[0mlabels\u001b[0m \u001b[1;32mis\u001b[0m \u001b[1;32mnot\u001b[0m \u001b[1;32mNone\u001b[0m\u001b[1;33m:\u001b[0m\u001b[1;33m\u001b[0m\u001b[1;33m\u001b[0m\u001b[0m\n\u001b[1;32m-> 4267\u001b[1;33m                 \u001b[0mobj\u001b[0m \u001b[1;33m=\u001b[0m \u001b[0mobj\u001b[0m\u001b[1;33m.\u001b[0m\u001b[0m_drop_axis\u001b[0m\u001b[1;33m(\u001b[0m\u001b[0mlabels\u001b[0m\u001b[1;33m,\u001b[0m \u001b[0maxis\u001b[0m\u001b[1;33m,\u001b[0m \u001b[0mlevel\u001b[0m\u001b[1;33m=\u001b[0m\u001b[0mlevel\u001b[0m\u001b[1;33m,\u001b[0m \u001b[0merrors\u001b[0m\u001b[1;33m=\u001b[0m\u001b[0merrors\u001b[0m\u001b[1;33m)\u001b[0m\u001b[1;33m\u001b[0m\u001b[1;33m\u001b[0m\u001b[0m\n\u001b[0m\u001b[0;32m   4268\u001b[0m \u001b[1;33m\u001b[0m\u001b[0m\n\u001b[0;32m   4269\u001b[0m         \u001b[1;32mif\u001b[0m \u001b[0minplace\u001b[0m\u001b[1;33m:\u001b[0m\u001b[1;33m\u001b[0m\u001b[1;33m\u001b[0m\u001b[0m\n",
      "\u001b[1;32m~\\anaconda3\\lib\\site-packages\\pandas\\core\\generic.py\u001b[0m in \u001b[0;36m_drop_axis\u001b[1;34m(self, labels, axis, level, errors, consolidate, only_slice)\u001b[0m\n\u001b[0;32m   4309\u001b[0m                 \u001b[0mnew_axis\u001b[0m \u001b[1;33m=\u001b[0m \u001b[0maxis\u001b[0m\u001b[1;33m.\u001b[0m\u001b[0mdrop\u001b[0m\u001b[1;33m(\u001b[0m\u001b[0mlabels\u001b[0m\u001b[1;33m,\u001b[0m \u001b[0mlevel\u001b[0m\u001b[1;33m=\u001b[0m\u001b[0mlevel\u001b[0m\u001b[1;33m,\u001b[0m \u001b[0merrors\u001b[0m\u001b[1;33m=\u001b[0m\u001b[0merrors\u001b[0m\u001b[1;33m)\u001b[0m\u001b[1;33m\u001b[0m\u001b[1;33m\u001b[0m\u001b[0m\n\u001b[0;32m   4310\u001b[0m             \u001b[1;32melse\u001b[0m\u001b[1;33m:\u001b[0m\u001b[1;33m\u001b[0m\u001b[1;33m\u001b[0m\u001b[0m\n\u001b[1;32m-> 4311\u001b[1;33m                 \u001b[0mnew_axis\u001b[0m \u001b[1;33m=\u001b[0m \u001b[0maxis\u001b[0m\u001b[1;33m.\u001b[0m\u001b[0mdrop\u001b[0m\u001b[1;33m(\u001b[0m\u001b[0mlabels\u001b[0m\u001b[1;33m,\u001b[0m \u001b[0merrors\u001b[0m\u001b[1;33m=\u001b[0m\u001b[0merrors\u001b[0m\u001b[1;33m)\u001b[0m\u001b[1;33m\u001b[0m\u001b[1;33m\u001b[0m\u001b[0m\n\u001b[0m\u001b[0;32m   4312\u001b[0m             \u001b[0mindexer\u001b[0m \u001b[1;33m=\u001b[0m \u001b[0maxis\u001b[0m\u001b[1;33m.\u001b[0m\u001b[0mget_indexer\u001b[0m\u001b[1;33m(\u001b[0m\u001b[0mnew_axis\u001b[0m\u001b[1;33m)\u001b[0m\u001b[1;33m\u001b[0m\u001b[1;33m\u001b[0m\u001b[0m\n\u001b[0;32m   4313\u001b[0m \u001b[1;33m\u001b[0m\u001b[0m\n",
      "\u001b[1;32m~\\anaconda3\\lib\\site-packages\\pandas\\core\\indexes\\base.py\u001b[0m in \u001b[0;36mdrop\u001b[1;34m(self, labels, errors)\u001b[0m\n\u001b[0;32m   6659\u001b[0m         \u001b[1;32mif\u001b[0m \u001b[0mmask\u001b[0m\u001b[1;33m.\u001b[0m\u001b[0many\u001b[0m\u001b[1;33m(\u001b[0m\u001b[1;33m)\u001b[0m\u001b[1;33m:\u001b[0m\u001b[1;33m\u001b[0m\u001b[1;33m\u001b[0m\u001b[0m\n\u001b[0;32m   6660\u001b[0m             \u001b[1;32mif\u001b[0m \u001b[0merrors\u001b[0m \u001b[1;33m!=\u001b[0m \u001b[1;34m\"ignore\"\u001b[0m\u001b[1;33m:\u001b[0m\u001b[1;33m\u001b[0m\u001b[1;33m\u001b[0m\u001b[0m\n\u001b[1;32m-> 6661\u001b[1;33m                 \u001b[1;32mraise\u001b[0m \u001b[0mKeyError\u001b[0m\u001b[1;33m(\u001b[0m\u001b[1;34mf\"{list(labels[mask])} not found in axis\"\u001b[0m\u001b[1;33m)\u001b[0m\u001b[1;33m\u001b[0m\u001b[1;33m\u001b[0m\u001b[0m\n\u001b[0m\u001b[0;32m   6662\u001b[0m             \u001b[0mindexer\u001b[0m \u001b[1;33m=\u001b[0m \u001b[0mindexer\u001b[0m\u001b[1;33m[\u001b[0m\u001b[1;33m~\u001b[0m\u001b[0mmask\u001b[0m\u001b[1;33m]\u001b[0m\u001b[1;33m\u001b[0m\u001b[1;33m\u001b[0m\u001b[0m\n\u001b[0;32m   6663\u001b[0m         \u001b[1;32mreturn\u001b[0m \u001b[0mself\u001b[0m\u001b[1;33m.\u001b[0m\u001b[0mdelete\u001b[0m\u001b[1;33m(\u001b[0m\u001b[0mindexer\u001b[0m\u001b[1;33m)\u001b[0m\u001b[1;33m\u001b[0m\u001b[1;33m\u001b[0m\u001b[0m\n",
      "\u001b[1;31mKeyError\u001b[0m: \"['Unnamed: 2'] not found in axis\""
     ]
    }
   ],
   "source": [
    "#removing unnamed columns\n",
    "dataset = dataset.drop('Unnamed: 2', 1)\n",
    "dataset = dataset.drop('Unnamed: 3', 1)\n",
    "dataset = dataset.drop('Unnamed: 4', 1)"
   ]
  },
  {
   "cell_type": "code",
   "execution_count": 24,
   "id": "ff7e248a",
   "metadata": {},
   "outputs": [
    {
     "data": {
      "text/html": [
       "<div>\n",
       "<style scoped>\n",
       "    .dataframe tbody tr th:only-of-type {\n",
       "        vertical-align: middle;\n",
       "    }\n",
       "\n",
       "    .dataframe tbody tr th {\n",
       "        vertical-align: top;\n",
       "    }\n",
       "\n",
       "    .dataframe thead th {\n",
       "        text-align: right;\n",
       "    }\n",
       "</style>\n",
       "<table border=\"1\" class=\"dataframe\">\n",
       "  <thead>\n",
       "    <tr style=\"text-align: right;\">\n",
       "      <th></th>\n",
       "      <th>v1</th>\n",
       "      <th>v2</th>\n",
       "    </tr>\n",
       "  </thead>\n",
       "  <tbody>\n",
       "    <tr>\n",
       "      <th>0</th>\n",
       "      <td>ham</td>\n",
       "      <td>Go until jurong point, crazy.. Available only ...</td>\n",
       "    </tr>\n",
       "    <tr>\n",
       "      <th>1</th>\n",
       "      <td>ham</td>\n",
       "      <td>Ok lar... Joking wif u oni...</td>\n",
       "    </tr>\n",
       "    <tr>\n",
       "      <th>2</th>\n",
       "      <td>spam</td>\n",
       "      <td>Free entry in 2 a wkly comp to win FA Cup fina...</td>\n",
       "    </tr>\n",
       "    <tr>\n",
       "      <th>3</th>\n",
       "      <td>ham</td>\n",
       "      <td>U dun say so early hor... U c already then say...</td>\n",
       "    </tr>\n",
       "    <tr>\n",
       "      <th>4</th>\n",
       "      <td>ham</td>\n",
       "      <td>Nah I don't think he goes to usf, he lives aro...</td>\n",
       "    </tr>\n",
       "  </tbody>\n",
       "</table>\n",
       "</div>"
      ],
      "text/plain": [
       "     v1                                                 v2\n",
       "0   ham  Go until jurong point, crazy.. Available only ...\n",
       "1   ham                      Ok lar... Joking wif u oni...\n",
       "2  spam  Free entry in 2 a wkly comp to win FA Cup fina...\n",
       "3   ham  U dun say so early hor... U c already then say...\n",
       "4   ham  Nah I don't think he goes to usf, he lives aro..."
      ]
     },
     "execution_count": 24,
     "metadata": {},
     "output_type": "execute_result"
    }
   ],
   "source": [
    "dataset.head()"
   ]
  },
  {
   "cell_type": "code",
   "execution_count": 25,
   "id": "8ea7c562",
   "metadata": {},
   "outputs": [],
   "source": [
    "dataset = dataset.rename(columns = {'v1':'label','v2':'message'})"
   ]
  },
  {
   "cell_type": "code",
   "execution_count": 26,
   "id": "e3de9f99",
   "metadata": {},
   "outputs": [
    {
     "data": {
      "text/html": [
       "<div>\n",
       "<style scoped>\n",
       "    .dataframe tbody tr th:only-of-type {\n",
       "        vertical-align: middle;\n",
       "    }\n",
       "\n",
       "    .dataframe tbody tr th {\n",
       "        vertical-align: top;\n",
       "    }\n",
       "\n",
       "    .dataframe thead tr th {\n",
       "        text-align: left;\n",
       "    }\n",
       "\n",
       "    .dataframe thead tr:last-of-type th {\n",
       "        text-align: right;\n",
       "    }\n",
       "</style>\n",
       "<table border=\"1\" class=\"dataframe\">\n",
       "  <thead>\n",
       "    <tr>\n",
       "      <th></th>\n",
       "      <th colspan=\"4\" halign=\"left\">message</th>\n",
       "    </tr>\n",
       "    <tr>\n",
       "      <th></th>\n",
       "      <th>count</th>\n",
       "      <th>unique</th>\n",
       "      <th>top</th>\n",
       "      <th>freq</th>\n",
       "    </tr>\n",
       "    <tr>\n",
       "      <th>label</th>\n",
       "      <th></th>\n",
       "      <th></th>\n",
       "      <th></th>\n",
       "      <th></th>\n",
       "    </tr>\n",
       "  </thead>\n",
       "  <tbody>\n",
       "    <tr>\n",
       "      <th>ham</th>\n",
       "      <td>4825</td>\n",
       "      <td>4516</td>\n",
       "      <td>Sorry, I'll call later</td>\n",
       "      <td>30</td>\n",
       "    </tr>\n",
       "    <tr>\n",
       "      <th>spam</th>\n",
       "      <td>747</td>\n",
       "      <td>653</td>\n",
       "      <td>Please call our customer service representativ...</td>\n",
       "      <td>4</td>\n",
       "    </tr>\n",
       "  </tbody>\n",
       "</table>\n",
       "</div>"
      ],
      "text/plain": [
       "      message                                                               \n",
       "        count unique                                                top freq\n",
       "label                                                                       \n",
       "ham      4825   4516                             Sorry, I'll call later   30\n",
       "spam      747    653  Please call our customer service representativ...    4"
      ]
     },
     "execution_count": 26,
     "metadata": {},
     "output_type": "execute_result"
    }
   ],
   "source": [
    "dataset.groupby('label').describe()"
   ]
  },
  {
   "cell_type": "code",
   "execution_count": 27,
   "id": "97c291be",
   "metadata": {},
   "outputs": [
    {
     "data": {
      "text/html": [
       "<div>\n",
       "<style scoped>\n",
       "    .dataframe tbody tr th:only-of-type {\n",
       "        vertical-align: middle;\n",
       "    }\n",
       "\n",
       "    .dataframe tbody tr th {\n",
       "        vertical-align: top;\n",
       "    }\n",
       "\n",
       "    .dataframe thead th {\n",
       "        text-align: right;\n",
       "    }\n",
       "</style>\n",
       "<table border=\"1\" class=\"dataframe\">\n",
       "  <thead>\n",
       "    <tr style=\"text-align: right;\">\n",
       "      <th></th>\n",
       "      <th>label</th>\n",
       "      <th>message</th>\n",
       "    </tr>\n",
       "  </thead>\n",
       "  <tbody>\n",
       "    <tr>\n",
       "      <th>0</th>\n",
       "      <td>ham</td>\n",
       "      <td>Go until jurong point, crazy.. Available only ...</td>\n",
       "    </tr>\n",
       "    <tr>\n",
       "      <th>1</th>\n",
       "      <td>ham</td>\n",
       "      <td>Ok lar... Joking wif u oni...</td>\n",
       "    </tr>\n",
       "    <tr>\n",
       "      <th>2</th>\n",
       "      <td>spam</td>\n",
       "      <td>Free entry in 2 a wkly comp to win FA Cup fina...</td>\n",
       "    </tr>\n",
       "    <tr>\n",
       "      <th>3</th>\n",
       "      <td>ham</td>\n",
       "      <td>U dun say so early hor... U c already then say...</td>\n",
       "    </tr>\n",
       "  </tbody>\n",
       "</table>\n",
       "</div>"
      ],
      "text/plain": [
       "  label                                            message\n",
       "0   ham  Go until jurong point, crazy.. Available only ...\n",
       "1   ham                      Ok lar... Joking wif u oni...\n",
       "2  spam  Free entry in 2 a wkly comp to win FA Cup fina...\n",
       "3   ham  U dun say so early hor... U c already then say..."
      ]
     },
     "execution_count": 27,
     "metadata": {},
     "output_type": "execute_result"
    }
   ],
   "source": [
    "\n",
    "dataset.head(4)"
   ]
  },
  {
   "cell_type": "code",
   "execution_count": 28,
   "id": "3177d633",
   "metadata": {},
   "outputs": [
    {
     "data": {
      "image/png": "[encoded data removed]",
      "text/plain": [
       "<Figure size 640x480 with 1 Axes>"
      ]
     },
     "metadata": {},
     "output_type": "display_data"
    }
   ],
   "source": [
    "count_Class=pd.value_counts(dataset[\"label\"], sort= True)\n",
    "count_Class.plot(kind = 'bar',color = [\"green\",\"red\"])\n",
    "plt.title('Bar Plot')\n",
    "plt.show();"
   ]
  },
  {
   "cell_type": "code",
   "execution_count": 29,
   "id": "39316f41",
   "metadata": {},
   "outputs": [
    {
     "data": {
      "text/plain": [
       "(5572, 8404)"
      ]
     },
     "execution_count": 29,
     "metadata": {},
     "output_type": "execute_result"
    }
   ],
   "source": [
    "f = feature_extraction.text.CountVectorizer(stop_words = 'english')\n",
    "X = f.fit_transform(dataset[\"message\"])\n",
    "np.shape(X)\n",
    "     "
   ]
  },
  {
   "cell_type": "code",
   "execution_count": 30,
   "id": "f2720f01",
   "metadata": {},
   "outputs": [],
   "source": [
    "# Classifying spam and not spam msgs as 1 and 0\n",
    "\n",
    "dataset[\"label\"]=dataset[\"label\"].map({'spam':1,'ham':0})\n",
    "X_train, X_test, y_train, y_test = model_selection.train_test_split(X, dataset['label'], test_size=0.70, random_state=42)\n",
    "     "
   ]
  },
  {
   "cell_type": "code",
   "execution_count": 31,
   "id": "c1f8823e",
   "metadata": {},
   "outputs": [],
   "source": [
    "list_alpha = np.arange(1/100000, 20, 0.11)\n",
    "score_train = np.zeros(len(list_alpha))\n",
    "score_test = np.zeros(len(list_alpha))\n",
    "recall_test = np.zeros(len(list_alpha))\n",
    "precision_test= np.zeros(len(list_alpha))\n",
    "count = 0\n",
    "for alpha in list_alpha:\n",
    "    bayes = naive_bayes.MultinomialNB(alpha=alpha)\n",
    "    bayes.fit(X_train, y_train)\n",
    "    score_train[count] = bayes.score(X_train, y_train)\n",
    "    score_test[count]= bayes.score(X_test, y_test)\n",
    "    recall_test[count] = metrics.recall_score(y_test, bayes.predict(X_test))\n",
    "    precision_test[count] = metrics.precision_score(y_test, bayes.predict(X_test))\n",
    "    count = count + 1 "
   ]
  },
  {
   "cell_type": "code",
   "execution_count": 32,
   "id": "bcc636f5",
   "metadata": {},
   "outputs": [
    {
     "data": {
      "text/html": [
       "<div>\n",
       "<style scoped>\n",
       "    .dataframe tbody tr th:only-of-type {\n",
       "        vertical-align: middle;\n",
       "    }\n",
       "\n",
       "    .dataframe tbody tr th {\n",
       "        vertical-align: top;\n",
       "    }\n",
       "\n",
       "    .dataframe thead th {\n",
       "        text-align: right;\n",
       "    }\n",
       "</style>\n",
       "<table border=\"1\" class=\"dataframe\">\n",
       "  <thead>\n",
       "    <tr style=\"text-align: right;\">\n",
       "      <th></th>\n",
       "      <th>alpha</th>\n",
       "      <th>Train Accuracy</th>\n",
       "      <th>Test Accuracy</th>\n",
       "      <th>Test Recall</th>\n",
       "      <th>Test Precision</th>\n",
       "    </tr>\n",
       "  </thead>\n",
       "  <tbody>\n",
       "    <tr>\n",
       "      <th>0</th>\n",
       "      <td>0.00001</td>\n",
       "      <td>0.998803</td>\n",
       "      <td>0.961805</td>\n",
       "      <td>0.913793</td>\n",
       "      <td>0.820998</td>\n",
       "    </tr>\n",
       "    <tr>\n",
       "      <th>1</th>\n",
       "      <td>0.11001</td>\n",
       "      <td>0.998803</td>\n",
       "      <td>0.966163</td>\n",
       "      <td>0.946360</td>\n",
       "      <td>0.826087</td>\n",
       "    </tr>\n",
       "    <tr>\n",
       "      <th>2</th>\n",
       "      <td>0.22001</td>\n",
       "      <td>0.999402</td>\n",
       "      <td>0.967444</td>\n",
       "      <td>0.938697</td>\n",
       "      <td>0.837607</td>\n",
       "    </tr>\n",
       "    <tr>\n",
       "      <th>3</th>\n",
       "      <td>0.33001</td>\n",
       "      <td>0.999402</td>\n",
       "      <td>0.968726</td>\n",
       "      <td>0.938697</td>\n",
       "      <td>0.844828</td>\n",
       "    </tr>\n",
       "    <tr>\n",
       "      <th>4</th>\n",
       "      <td>0.44001</td>\n",
       "      <td>0.999402</td>\n",
       "      <td>0.971546</td>\n",
       "      <td>0.929119</td>\n",
       "      <td>0.867621</td>\n",
       "    </tr>\n",
       "    <tr>\n",
       "      <th>5</th>\n",
       "      <td>0.55001</td>\n",
       "      <td>0.998803</td>\n",
       "      <td>0.976160</td>\n",
       "      <td>0.925287</td>\n",
       "      <td>0.899441</td>\n",
       "    </tr>\n",
       "    <tr>\n",
       "      <th>6</th>\n",
       "      <td>0.66001</td>\n",
       "      <td>0.998803</td>\n",
       "      <td>0.976160</td>\n",
       "      <td>0.919540</td>\n",
       "      <td>0.903955</td>\n",
       "    </tr>\n",
       "    <tr>\n",
       "      <th>7</th>\n",
       "      <td>0.77001</td>\n",
       "      <td>0.997606</td>\n",
       "      <td>0.977698</td>\n",
       "      <td>0.917625</td>\n",
       "      <td>0.915870</td>\n",
       "    </tr>\n",
       "    <tr>\n",
       "      <th>8</th>\n",
       "      <td>0.88001</td>\n",
       "      <td>0.997606</td>\n",
       "      <td>0.977954</td>\n",
       "      <td>0.909962</td>\n",
       "      <td>0.924125</td>\n",
       "    </tr>\n",
       "    <tr>\n",
       "      <th>9</th>\n",
       "      <td>0.99001</td>\n",
       "      <td>0.997606</td>\n",
       "      <td>0.978980</td>\n",
       "      <td>0.902299</td>\n",
       "      <td>0.938247</td>\n",
       "    </tr>\n",
       "  </tbody>\n",
       "</table>\n",
       "</div>"
      ],
      "text/plain": [
       "     alpha  Train Accuracy  Test Accuracy  Test Recall  Test Precision\n",
       "0  0.00001        0.998803       0.961805     0.913793        0.820998\n",
       "1  0.11001        0.998803       0.966163     0.946360        0.826087\n",
       "2  0.22001        0.999402       0.967444     0.938697        0.837607\n",
       "3  0.33001        0.999402       0.968726     0.938697        0.844828\n",
       "4  0.44001        0.999402       0.971546     0.929119        0.867621\n",
       "5  0.55001        0.998803       0.976160     0.925287        0.899441\n",
       "6  0.66001        0.998803       0.976160     0.919540        0.903955\n",
       "7  0.77001        0.997606       0.977698     0.917625        0.915870\n",
       "8  0.88001        0.997606       0.977954     0.909962        0.924125\n",
       "9  0.99001        0.997606       0.978980     0.902299        0.938247"
      ]
     },
     "execution_count": 32,
     "metadata": {},
     "output_type": "execute_result"
    }
   ],
   "source": [
    "matrix = np.matrix(np.c_[list_alpha, score_train, score_test, recall_test, precision_test])\n",
    "models = pd.DataFrame(data = matrix, columns = \n",
    "             ['alpha', 'Train Accuracy', 'Test Accuracy', 'Test Recall', 'Test Precision'])\n",
    "models.head(n=10)"
   ]
  },
  {
   "cell_type": "code",
   "execution_count": 33,
   "id": "b75840ab",
   "metadata": {},
   "outputs": [
    {
     "data": {
      "text/plain": [
       "alpha             10.670010\n",
       "Train Accuracy     0.977259\n",
       "Test Accuracy      0.962574\n",
       "Test Recall        0.720307\n",
       "Test Precision     1.000000\n",
       "Name: 97, dtype: float64"
      ]
     },
     "execution_count": 33,
     "metadata": {},
     "output_type": "execute_result"
    }
   ],
   "source": [
    "best_index = models['Test Precision'].idxmax()\n",
    "models.iloc[best_index, :]"
   ]
  },
  {
   "cell_type": "code",
   "execution_count": 34,
   "id": "3f2bd0d8",
   "metadata": {},
   "outputs": [],
   "source": [
    "rf = RandomForestClassifier(n_estimators=100,max_depth=None,n_jobs=-1)\n",
    "rf_model = rf.fit(X_train,y_train)\n",
    "     "
   ]
  },
  {
   "cell_type": "code",
   "execution_count": 36,
   "id": "a1607e70",
   "metadata": {},
   "outputs": [
    {
     "name": "stdout",
     "output_type": "stream",
     "text": [
      "Precision : 0.99 / Recall : 0.738 / fscore : 0.845 / Accuracy: 0.964\n"
     ]
    }
   ],
   "source": [
    "y_pred=rf_model.predict(X_test)\n",
    "precision,recall,fscore,support =score(y_test,y_pred,pos_label=1, average ='binary')\n",
    "print('Precision : {} / Recall : {} / fscore : {} / Accuracy: {}'.format(round(precision,3),round(recall,3),round(fscore,3),round((y_pred==y_test).sum()/len(y_test),3)))"
   ]
  },
  {
   "cell_type": "code",
   "execution_count": 38,
   "id": "11427233",
   "metadata": {},
   "outputs": [],
   "source": [
    "import tensorflow as tf\n",
    "from keras.preprocessing.text import Tokenizer\n",
    "from keras.layers import Embedding, LSTM, Dropout, Dense\n",
    "from keras.models import Sequential\n",
    "from keras.utils import to_categorical\n",
    "from keras_preprocessing.sequence import pad_sequences\n",
    "import tensorflow as tf\n"
   ]
  },
  {
   "cell_type": "code",
   "execution_count": 39,
   "id": "317a7eca",
   "metadata": {},
   "outputs": [],
   "source": [
    "vocab_size = 400\n",
    "oov_tok = \"\"\n",
    "max_length = 250\n",
    "embedding_dim = 16\n",
    "encode = ({'ham': 0, 'spam': 1} )\n",
    "#new dataset with replaced values\n",
    "dataset = dataset.replace(encode)"
   ]
  },
  {
   "cell_type": "code",
   "execution_count": 40,
   "id": "5d8f657b",
   "metadata": {},
   "outputs": [],
   "source": [
    "X = dataset['message']\n",
    "Y = dataset['label']\n",
    "tokenizer = Tokenizer(num_words=vocab_size, oov_token=oov_tok)\n",
    "tokenizer.fit_on_texts(X)\n",
    "# convert to sequence of integers\n",
    "X = tokenizer.texts_to_sequences(X)"
   ]
  },
  {
   "cell_type": "code",
   "execution_count": 41,
   "id": "3dfc99ae",
   "metadata": {},
   "outputs": [
    {
     "name": "stderr",
     "output_type": "stream",
     "text": [
      "C:\\Users\\Dell\\AppData\\Local\\Temp\\ipykernel_15700\\2769240019.py:1: VisibleDeprecationWarning: Creating an ndarray from ragged nested sequences (which is a list-or-tuple of lists-or-tuples-or ndarrays with different lengths or shapes) is deprecated. If you meant to do this, you must specify 'dtype=object' when creating the ndarray.\n",
      "  X = np.array(X)\n"
     ]
    },
    {
     "name": "stdout",
     "output_type": "stream",
     "text": [
      "Model: \"sequential\"\n",
      "_________________________________________________________________\n",
      " Layer (type)                Output Shape              Param #   \n",
      "=================================================================\n",
      " embedding (Embedding)       (None, 250, 16)           6400      \n",
      "                                                                 \n",
      " global_average_pooling1d (G  (None, 16)               0         \n",
      " lobalAveragePooling1D)                                          \n",
      "                                                                 \n",
      " dense (Dense)               (None, 24)                408       \n",
      "                                                                 \n",
      " dense_1 (Dense)             (None, 1)                 25        \n",
      "                                                                 \n",
      "=================================================================\n",
      "Total params: 6,833\n",
      "Trainable params: 6,833\n",
      "Non-trainable params: 0\n",
      "_________________________________________________________________\n"
     ]
    }
   ],
   "source": [
    "X = np.array(X)\n",
    "y = np.array(Y)\n",
    "     \n",
    "\n",
    "X = pad_sequences(X, maxlen=max_length)\n",
    "     \n",
    "\n",
    "model = tf.keras.Sequential([\n",
    "    tf.keras.layers.Embedding(vocab_size, embedding_dim, input_length=max_length),\n",
    "    tf.keras.layers.GlobalAveragePooling1D(),\n",
    "    tf.keras.layers.Dense(24, activation='relu'),\n",
    "    tf.keras.layers.Dense(1, activation='sigmoid')\n",
    "])\n",
    "model.compile(loss='binary_crossentropy',optimizer='adam',metrics=['accuracy'])\n",
    "model.summary()"
   ]
  },
  {
   "cell_type": "code",
   "execution_count": 42,
   "id": "ac734c72",
   "metadata": {},
   "outputs": [
    {
     "name": "stdout",
     "output_type": "stream",
     "text": [
      "Epoch 1/50\n",
      "140/140 - 3s - loss: 0.4783 - accuracy: 0.8649 - val_loss: 0.3746 - val_accuracy: 0.8700 - 3s/epoch - 21ms/step\n",
      "Epoch 2/50\n",
      "140/140 - 1s - loss: 0.3775 - accuracy: 0.8649 - val_loss: 0.3610 - val_accuracy: 0.8700 - 559ms/epoch - 4ms/step\n",
      "Epoch 3/50\n",
      "140/140 - 1s - loss: 0.3608 - accuracy: 0.8649 - val_loss: 0.3401 - val_accuracy: 0.8700 - 502ms/epoch - 4ms/step\n",
      "Epoch 4/50\n",
      "140/140 - 1s - loss: 0.3291 - accuracy: 0.8649 - val_loss: 0.2966 - val_accuracy: 0.8700 - 514ms/epoch - 4ms/step\n",
      "Epoch 5/50\n",
      "140/140 - 1s - loss: 0.2684 - accuracy: 0.8645 - val_loss: 0.2290 - val_accuracy: 0.8762 - 582ms/epoch - 4ms/step\n",
      "Epoch 6/50\n",
      "140/140 - 1s - loss: 0.2024 - accuracy: 0.9091 - val_loss: 0.1713 - val_accuracy: 0.9309 - 532ms/epoch - 4ms/step\n",
      "Epoch 7/50\n",
      "140/140 - 0s - loss: 0.1637 - accuracy: 0.9462 - val_loss: 0.1418 - val_accuracy: 0.9561 - 499ms/epoch - 4ms/step\n",
      "Epoch 8/50\n",
      "140/140 - 1s - loss: 0.1386 - accuracy: 0.9567 - val_loss: 0.1246 - val_accuracy: 0.9623 - 505ms/epoch - 4ms/step\n",
      "Epoch 9/50\n",
      "140/140 - 0s - loss: 0.1215 - accuracy: 0.9634 - val_loss: 0.1053 - val_accuracy: 0.9641 - 486ms/epoch - 3ms/step\n",
      "Epoch 10/50\n",
      "140/140 - 1s - loss: 0.1066 - accuracy: 0.9661 - val_loss: 0.0923 - val_accuracy: 0.9713 - 548ms/epoch - 4ms/step\n",
      "Epoch 11/50\n",
      "140/140 - 1s - loss: 0.0957 - accuracy: 0.9699 - val_loss: 0.0821 - val_accuracy: 0.9704 - 518ms/epoch - 4ms/step\n",
      "Epoch 12/50\n",
      "140/140 - 1s - loss: 0.0867 - accuracy: 0.9724 - val_loss: 0.0744 - val_accuracy: 0.9713 - 614ms/epoch - 4ms/step\n",
      "Epoch 13/50\n",
      "140/140 - 1s - loss: 0.0811 - accuracy: 0.9735 - val_loss: 0.0680 - val_accuracy: 0.9785 - 665ms/epoch - 5ms/step\n",
      "Epoch 14/50\n",
      "140/140 - 1s - loss: 0.0741 - accuracy: 0.9751 - val_loss: 0.0680 - val_accuracy: 0.9785 - 742ms/epoch - 5ms/step\n",
      "Epoch 15/50\n",
      "140/140 - 1s - loss: 0.0695 - accuracy: 0.9773 - val_loss: 0.0593 - val_accuracy: 0.9803 - 746ms/epoch - 5ms/step\n",
      "Epoch 16/50\n",
      "140/140 - 1s - loss: 0.0653 - accuracy: 0.9787 - val_loss: 0.0572 - val_accuracy: 0.9812 - 590ms/epoch - 4ms/step\n",
      "Epoch 17/50\n",
      "140/140 - 1s - loss: 0.0618 - accuracy: 0.9789 - val_loss: 0.0549 - val_accuracy: 0.9830 - 595ms/epoch - 4ms/step\n",
      "Epoch 18/50\n",
      "140/140 - 1s - loss: 0.0595 - accuracy: 0.9809 - val_loss: 0.0515 - val_accuracy: 0.9821 - 753ms/epoch - 5ms/step\n",
      "Epoch 19/50\n",
      "140/140 - 1s - loss: 0.0576 - accuracy: 0.9812 - val_loss: 0.0500 - val_accuracy: 0.9839 - 725ms/epoch - 5ms/step\n",
      "Epoch 20/50\n",
      "140/140 - 1s - loss: 0.0543 - accuracy: 0.9816 - val_loss: 0.0505 - val_accuracy: 0.9857 - 733ms/epoch - 5ms/step\n",
      "Epoch 21/50\n",
      "140/140 - 1s - loss: 0.0528 - accuracy: 0.9834 - val_loss: 0.0508 - val_accuracy: 0.9839 - 754ms/epoch - 5ms/step\n",
      "Epoch 22/50\n",
      "140/140 - 1s - loss: 0.0521 - accuracy: 0.9832 - val_loss: 0.0463 - val_accuracy: 0.9874 - 751ms/epoch - 5ms/step\n",
      "Epoch 23/50\n",
      "140/140 - 1s - loss: 0.0490 - accuracy: 0.9845 - val_loss: 0.0525 - val_accuracy: 0.9830 - 737ms/epoch - 5ms/step\n",
      "Epoch 24/50\n",
      "140/140 - 1s - loss: 0.0490 - accuracy: 0.9843 - val_loss: 0.0475 - val_accuracy: 0.9848 - 829ms/epoch - 6ms/step\n",
      "Epoch 25/50\n",
      "140/140 - 1s - loss: 0.0466 - accuracy: 0.9838 - val_loss: 0.0441 - val_accuracy: 0.9874 - 883ms/epoch - 6ms/step\n",
      "Epoch 26/50\n",
      "140/140 - 1s - loss: 0.0446 - accuracy: 0.9843 - val_loss: 0.0435 - val_accuracy: 0.9883 - 888ms/epoch - 6ms/step\n",
      "Epoch 27/50\n",
      "140/140 - 1s - loss: 0.0455 - accuracy: 0.9845 - val_loss: 0.0430 - val_accuracy: 0.9883 - 929ms/epoch - 7ms/step\n",
      "Epoch 28/50\n",
      "140/140 - 1s - loss: 0.0430 - accuracy: 0.9861 - val_loss: 0.0427 - val_accuracy: 0.9892 - 964ms/epoch - 7ms/step\n",
      "Epoch 29/50\n",
      "140/140 - 1s - loss: 0.0429 - accuracy: 0.9854 - val_loss: 0.0436 - val_accuracy: 0.9874 - 950ms/epoch - 7ms/step\n",
      "Epoch 30/50\n",
      "140/140 - 1s - loss: 0.0412 - accuracy: 0.9861 - val_loss: 0.0431 - val_accuracy: 0.9892 - 925ms/epoch - 7ms/step\n",
      "Epoch 31/50\n",
      "140/140 - 1s - loss: 0.0399 - accuracy: 0.9861 - val_loss: 0.0444 - val_accuracy: 0.9874 - 908ms/epoch - 6ms/step\n",
      "Epoch 32/50\n",
      "140/140 - 1s - loss: 0.0394 - accuracy: 0.9868 - val_loss: 0.0412 - val_accuracy: 0.9901 - 916ms/epoch - 7ms/step\n",
      "Epoch 33/50\n",
      "140/140 - 1s - loss: 0.0386 - accuracy: 0.9863 - val_loss: 0.0431 - val_accuracy: 0.9857 - 919ms/epoch - 7ms/step\n",
      "Epoch 34/50\n",
      "140/140 - 1s - loss: 0.0375 - accuracy: 0.9870 - val_loss: 0.0467 - val_accuracy: 0.9883 - 906ms/epoch - 6ms/step\n",
      "Epoch 35/50\n",
      "140/140 - 1s - loss: 0.0360 - accuracy: 0.9883 - val_loss: 0.0408 - val_accuracy: 0.9901 - 902ms/epoch - 6ms/step\n",
      "Epoch 36/50\n",
      "140/140 - 1s - loss: 0.0366 - accuracy: 0.9888 - val_loss: 0.0408 - val_accuracy: 0.9901 - 956ms/epoch - 7ms/step\n",
      "Epoch 37/50\n",
      "140/140 - 1s - loss: 0.0361 - accuracy: 0.9881 - val_loss: 0.0444 - val_accuracy: 0.9892 - 917ms/epoch - 7ms/step\n",
      "Epoch 38/50\n",
      "140/140 - 1s - loss: 0.0363 - accuracy: 0.9883 - val_loss: 0.0405 - val_accuracy: 0.9901 - 951ms/epoch - 7ms/step\n",
      "Epoch 39/50\n",
      "140/140 - 1s - loss: 0.0336 - accuracy: 0.9883 - val_loss: 0.0432 - val_accuracy: 0.9901 - 983ms/epoch - 7ms/step\n",
      "Epoch 40/50\n",
      "140/140 - 1s - loss: 0.0333 - accuracy: 0.9892 - val_loss: 0.0413 - val_accuracy: 0.9910 - 955ms/epoch - 7ms/step\n",
      "Epoch 41/50\n",
      "140/140 - 1s - loss: 0.0320 - accuracy: 0.9904 - val_loss: 0.0410 - val_accuracy: 0.9910 - 912ms/epoch - 7ms/step\n",
      "Epoch 42/50\n",
      "140/140 - 1s - loss: 0.0323 - accuracy: 0.9895 - val_loss: 0.0409 - val_accuracy: 0.9910 - 946ms/epoch - 7ms/step\n",
      "Epoch 43/50\n",
      "140/140 - 1s - loss: 0.0314 - accuracy: 0.9897 - val_loss: 0.0406 - val_accuracy: 0.9883 - 963ms/epoch - 7ms/step\n",
      "Epoch 44/50\n",
      "140/140 - 1s - loss: 0.0311 - accuracy: 0.9901 - val_loss: 0.0407 - val_accuracy: 0.9901 - 924ms/epoch - 7ms/step\n",
      "Epoch 45/50\n",
      "140/140 - 1s - loss: 0.0306 - accuracy: 0.9904 - val_loss: 0.0409 - val_accuracy: 0.9883 - 930ms/epoch - 7ms/step\n",
      "Epoch 46/50\n",
      "140/140 - 1s - loss: 0.0306 - accuracy: 0.9895 - val_loss: 0.0429 - val_accuracy: 0.9910 - 926ms/epoch - 7ms/step\n",
      "Epoch 47/50\n",
      "140/140 - 1s - loss: 0.0309 - accuracy: 0.9888 - val_loss: 0.0411 - val_accuracy: 0.9910 - 964ms/epoch - 7ms/step\n",
      "Epoch 48/50\n",
      "140/140 - 1s - loss: 0.0292 - accuracy: 0.9897 - val_loss: 0.0453 - val_accuracy: 0.9901 - 1s/epoch - 7ms/step\n",
      "Epoch 49/50\n",
      "140/140 - 1s - loss: 0.0278 - accuracy: 0.9904 - val_loss: 0.0507 - val_accuracy: 0.9883 - 961ms/epoch - 7ms/step\n",
      "Epoch 50/50\n",
      "140/140 - 1s - loss: 0.0299 - accuracy: 0.9901 - val_loss: 0.0422 - val_accuracy: 0.9883 - 955ms/epoch - 7ms/step\n"
     ]
    }
   ],
   "source": [
    "num_epochs = 50\n",
    "X_train, X_test, y_train, y_test = train_test_split(X, Y, test_size=.20, random_state=7)\n",
    "history = model.fit(X_train, y_train, epochs=num_epochs, validation_data=(X_test,y_test), verbose=2)"
   ]
  },
  {
   "cell_type": "code",
   "execution_count": 43,
   "id": "e8c24dea",
   "metadata": {},
   "outputs": [
    {
     "name": "stdout",
     "output_type": "stream",
     "text": [
      "35/35 [==============================] - 0s 3ms/step - loss: 0.0422 - accuracy: 0.9883\n",
      "[+] Accuracy: 98.83%\n"
     ]
    }
   ],
   "source": [
    "results = model.evaluate(X_test, y_test)\n",
    "loss = results[0]\n",
    "accuracy = results[1]\n",
    "\n",
    "\n",
    "print(f\"[+] Accuracy: {accuracy*100:.2f}%\")"
   ]
  },
  {
   "cell_type": "code",
   "execution_count": 55,
   "id": "e315693d",
   "metadata": {},
   "outputs": [],
   "source": [
    "from keras_preprocessing import sequence"
   ]
  },
  {
   "cell_type": "code",
   "execution_count": 56,
   "id": "77335403",
   "metadata": {},
   "outputs": [],
   "source": [
    "#Defining the function\n",
    "def get_predictions(txts):\n",
    "    txts = tokenizer.texts_to_sequences(txts)\n",
    "    txts = sequence.pad_sequences(txts, maxlen=max_length)\n",
    "    preds = model.predict(txts)\n",
    "    if(preds[0] > 0.5):\n",
    "        print(\"SPAM MESSAGE\")\n",
    "        \n",
    "    else:\n",
    "        print('NOT SPAM')"
   ]
  },
  {
   "cell_type": "code",
   "execution_count": 57,
   "id": "b8a7397a",
   "metadata": {},
   "outputs": [],
   "source": [
    "from keras.utils import pad_sequences"
   ]
  },
  {
   "cell_type": "code",
   "execution_count": 58,
   "id": "bd4f830c",
   "metadata": {},
   "outputs": [
    {
     "name": "stdout",
     "output_type": "stream",
     "text": [
      "1/1 [==============================] - 0s 98ms/step\n",
      "SPAM MESSAGE\n"
     ]
    }
   ],
   "source": [
    "txts=[\"You have won a free ticket to las vegas. Contact now\"]\n",
    "\n",
    "get_predictions(txts)"
   ]
  },
  {
   "cell_type": "code",
   "execution_count": 59,
   "id": "af9a5cb2",
   "metadata": {},
   "outputs": [
    {
     "name": "stdout",
     "output_type": "stream",
     "text": [
      "1/1 [==============================] - 0s 29ms/step\n",
      "NOT SPAM\n"
     ]
    }
   ],
   "source": [
    "txts=[\"Hey there call me asap!!\"]\n",
    "\n",
    "get_predictions(txts)"
   ]
  },
  {
   "cell_type": "code",
   "execution_count": null,
   "id": "478ad9f0",
   "metadata": {},
   "outputs": [],
   "source": []
  },
  {
   "cell_type": "code",
   "execution_count": null,
   "id": "1370e5e9",
   "metadata": {},
   "outputs": [],
   "source": []
  }
 ],
 "metadata": {
  "kernelspec": {
   "display_name": "Python 3 (ipykernel)",
   "language": "python",
   "name": "python3"
  },
  "language_info": {
   "codemirror_mode": {
    "name": "ipython",
    "version": 3
   },
   "file_extension": ".py",
   "mimetype": "text/x-python",
   "name": "python",
   "nbconvert_exporter": "python",
   "pygments_lexer": "ipython3",
   "version": "3.9.13"
  }
 },
 "nbformat": 4,
 "nbformat_minor": 5
}
